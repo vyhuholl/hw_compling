{
 "cells": [
  {
   "cell_type": "markdown",
   "metadata": {},
   "source": [
    "# Bigram POS tagger with hidden Markov model and Viterbi algorithm."
   ]
  },
  {
   "cell_type": "code",
   "execution_count": 1,
   "metadata": {
    "collapsed": true
   },
   "outputs": [],
   "source": [
    "import nltk\n",
    "import re\n",
    "from conllu import parse\n",
    "from nltk.corpus import conll2000\n",
    "from collections import defaultdict\n",
    "from collections import Counter\n",
    "conll2000.ensure_loaded()"
   ]
  },
  {
   "cell_type": "code",
   "execution_count": 2,
   "metadata": {},
   "outputs": [],
   "source": [
    "with open('UD_English-EWT-master/en_ewt-ud-train.conllu') as train:\n",
    "    train_sents = []\n",
    "    for tokenlist in parse(train.read()):\n",
    "        train_sents.append([(token['form'], token['upostag']) for token in tokenlist])\n",
    "with open('UD_English-EWT-master/en_ewt-ud-test.conllu') as test:\n",
    "    test_sents = []\n",
    "    for tokenlist in parse(test.read()):\n",
    "        test_sents.append([(token['form'], token['upostag']) for token in tokenlist])"
   ]
  },
  {
   "cell_type": "code",
   "execution_count": 3,
   "metadata": {
    "collapsed": true
   },
   "outputs": [],
   "source": [
    "train_sents_conll2000 = conll2000.tagged_sents()[:8000]\n",
    "test_sents_conll2000 = conll2000.tagged_sents()[8000:]"
   ]
  },
  {
   "cell_type": "code",
   "execution_count": 4,
   "metadata": {
    "collapsed": true
   },
   "outputs": [],
   "source": [
    "def accuracy(test_sents, postagger):\n",
    "    errors = 0\n",
    "    length = 0\n",
    "    for sent in test_sents:\n",
    "        length += len(sent)\n",
    "        sent, real_tags = zip(*sent)\n",
    "        my_tags = postagger.tag(sent)\n",
    "        for i in range(len(my_tags)):\n",
    "            if my_tags[i][1] != real_tags[i]:\n",
    "                errors += 1\n",
    "    return 1 - errors / length"
   ]
  },
  {
   "cell_type": "code",
   "execution_count": 5,
   "metadata": {
    "collapsed": true
   },
   "outputs": [],
   "source": [
    "# Нормализатор для получения распределения вероятностей из частот\n",
    "class BaseNormalizer:\n",
    "    def normalize(self, counter):\n",
    "        sum_ = sum(counter.values())\n",
    "        return {token: (counter[token] / sum_) for token in counter}"
   ]
  },
  {
   "cell_type": "markdown",
   "metadata": {},
   "source": [
    "Для каждого слова будем выбирать наиболее вероятный тег, учитывая общую вероятность самого тега вместе с тегом предыдущего слова.\n",
    "$$\n",
    "        tag(w) = \\arg \\max_{i \\in 1 .. |Tags| } P(w \\mid tag_i)P(tag_i \\mid t_{i - 1})\n",
    "$$"
   ]
  },
  {
   "cell_type": "code",
   "execution_count": 6,
   "metadata": {
    "collapsed": true
   },
   "outputs": [],
   "source": [
    "class EmissionModel: #остаётся такой же, как и в униграммном тэггере\n",
    "    def __init__(self, tagged_sents, normalizer=BaseNormalizer()):\n",
    "        self.normalizer = normalizer\n",
    "        self.model = defaultdict(Counter)\n",
    "        # self.model будет иметь вид \n",
    "        # defaultdict({'tag_1': Counter({'word_1': 0.3, 'word_2': 0.7}), 'tag_2': Counter({'word_1': 0.6, 'word_3': 0.3 ...})})\n",
    "        for sent in tagged_sents:\n",
    "            for word, tag in sent:\n",
    "                self.model[tag][word] += 1\n",
    "        self.add_unk_token()\n",
    "        for tag in self.model:\n",
    "            self.normalizer.normalize(self.model[tag])\n",
    "        \n",
    "    def add_unk_token(self):\n",
    "        # Для каждого тега добавим одинаковую вероятность быть приписанным любому слову, которого нет в модели\n",
    "        for tag in self.model:\n",
    "            self.model[tag]['UNK'] = 0.1\n",
    "        \n",
    "    def tags(self):\n",
    "        # Добавим возможность возвращать все теги, которые есть в модели\n",
    "        return self.model.keys()\n",
    "    \n",
    "    def __getitem__(self, tag):\n",
    "        # Все слова для данного тега\n",
    "        return self.model[tag]\n",
    "    \n",
    "    def __call__(self, word, tag):\n",
    "        # Самое интересное - вероятность P(word|tag)\n",
    "        if word not in self[tag]:\n",
    "            return self[tag]['UNK']\n",
    "        return self[tag][word]"
   ]
  },
  {
   "cell_type": "code",
   "execution_count": 7,
   "metadata": {
    "collapsed": true
   },
   "outputs": [],
   "source": [
    "class TransitionModel:\n",
    "    def __init__(self, tag_seqs, normalizer=BaseNormalizer()):\n",
    "        self.normalizer = normalizer\n",
    "        # Эта модель будет иметь вид:\n",
    "        # defaultdict({'tag_1': Counter({'tag_1': 0.3, 'tag_2': 0.7}), 'tag_2': Counter({'tag_1': 0.6, 'tag_3': 0.3 ...})})\n",
    "        self.model = defaultdict(Counter)\n",
    "        for seq in tag_seqs:\n",
    "            self.model[None][seq[0]] += 1 #вероятности быть встреченным в начале слова будем хранить в self.model[None]\n",
    "            for i in range(1, len(seq)):\n",
    "                # проходимся по каждому тэгу последовательности, начиная со второго, для каждого записываем\n",
    "                # каждое вхождение после предыдущего тэга в self.model\n",
    "                self.model[seq[i - 1]][seq[i]] += 1\n",
    "        for tag in self.model:\n",
    "            self.normalizer.normalize(self.model[tag])\n",
    "        \n",
    "    def tags(self):\n",
    "        return self.model.keys()\n",
    "    \n",
    "    def __getitem__(self, tag):\n",
    "        # все теги, которые встречаются перед данным тегом\n",
    "        return self.model[tag]\n",
    "    \n",
    "    def __call__(self, tag, prev_tag):\n",
    "        # вероятность P(tag|prev_tag)\n",
    "        return self.model[prev_tag][tag]"
   ]
  },
  {
   "cell_type": "code",
   "execution_count": 8,
   "metadata": {},
   "outputs": [],
   "source": [
    "class BigramPOSTagger:\n",
    "    def __init__(self, emission_model, transition_model):\n",
    "        self.em = emission_model\n",
    "        self.tm = transition_model\n",
    "    \n",
    "    def tag(self, sent):\n",
    "        # Для списка слов возвращаем список пар (слово, тег)\n",
    "        # Для каждого слова проходимся по всем тегам\n",
    "        # И выбираем максимум по формуле\n",
    "        tags = []\n",
    "        for i in range(len(sent)):\n",
    "            word = sent[i]\n",
    "            if i == 0:\n",
    "                prev_t = None\n",
    "            else:\n",
    "                prev_t = tags[i - 1]\n",
    "            max_prob = 0\n",
    "            best_tag = 'UNK'\n",
    "            for t in self.tm.tags():\n",
    "                prob = self.em(word, t) * self.tm(t, prev_t)\n",
    "                if prob > max_prob:\n",
    "                    max_prob, best_tag = prob, t\n",
    "            tags.append(best_tag)\n",
    "        return list(zip(sent, tags))"
   ]
  },
  {
   "cell_type": "code",
   "execution_count": 9,
   "metadata": {},
   "outputs": [],
   "source": [
    "# Проверяем!\n",
    "em = EmissionModel(train_sents)\n",
    "tm = TransitionModel([[tag for word, tag in sent] for sent in train_sents])\n",
    "bigram_postagger = BigramPOSTagger(em, tm) #теггер, обученный на UD\n",
    "em_conll2000 = EmissionModel(train_sents_conll2000)\n",
    "tm_conll2000 = TransitionModel([[tag for word, tag in sent] for sent in train_sents_conll2000])\n",
    "bigram_postagger_conll2000 = BigramPOSTagger(em_conll2000, tm_conll2000) #и на conll2000"
   ]
  },
  {
   "cell_type": "code",
   "execution_count": 10,
   "metadata": {},
   "outputs": [
    {
     "name": "stdout",
     "output_type": "stream",
     "text": [
      "Точность тэггера, обученного на корпусе UD: 0.8309359684424433\n",
      "Точность тэггера, обученного на корпусе conll2000: 0.91444050603729\n"
     ]
    }
   ],
   "source": [
    "print('Точность тэггера, обученного на корпусе UD: {}'.format(accuracy(test_sents, bigram_postagger)))\n",
    "print('Точность тэггера, обученного на корпусе conll2000: {}'.format(accuracy(test_sents_conll2000, bigram_postagger_conll2000)))"
   ]
  },
  {
   "cell_type": "markdown",
   "metadata": {},
   "source": [
    "Accuracy на conll2000 лучше!"
   ]
  },
  {
   "cell_type": "code",
   "execution_count": 11,
   "metadata": {},
   "outputs": [
    {
     "data": {
      "text/plain": [
       "[('The', 'DET'),\n",
       " ('quick', 'ADJ'),\n",
       " ('brown', 'NOUN'),\n",
       " ('fox', 'PUNCT'),\n",
       " ('jumps', 'VERB'),\n",
       " ('over', 'ADP'),\n",
       " ('the', 'DET'),\n",
       " ('lazy', 'ADJ'),\n",
       " ('dog', 'NOUN')]"
      ]
     },
     "execution_count": 11,
     "metadata": {},
     "output_type": "execute_result"
    }
   ],
   "source": [
    "bigram_postagger.tag('The quick brown fox jumps over the lazy dog'.split(' ')) #проверяем!"
   ]
  },
  {
   "cell_type": "code",
   "execution_count": 12,
   "metadata": {},
   "outputs": [
    {
     "data": {
      "text/plain": [
       "[('The', 'DT'),\n",
       " ('quick', 'JJ'),\n",
       " ('brown', 'NN'),\n",
       " ('fox', 'NN'),\n",
       " ('jumps', 'IN'),\n",
       " ('over', 'IN'),\n",
       " ('the', 'DT'),\n",
       " ('lazy', 'NN'),\n",
       " ('dog', 'NN')]"
      ]
     },
     "execution_count": 12,
     "metadata": {},
     "output_type": "execute_result"
    }
   ],
   "source": [
    "bigram_postagger_conll2000.tag('The quick brown fox jumps over the lazy dog'.split(' '))"
   ]
  },
  {
   "cell_type": "code",
   "execution_count": null,
   "metadata": {
    "collapsed": true
   },
   "outputs": [],
   "source": []
  }
 ],
 "metadata": {
  "kernelspec": {
   "display_name": "Python 3",
   "language": "python",
   "name": "python3"
  },
  "language_info": {
   "codemirror_mode": {
    "name": "ipython",
    "version": 3
   },
   "file_extension": ".py",
   "mimetype": "text/x-python",
   "name": "python",
   "nbconvert_exporter": "python",
   "pygments_lexer": "ipython3",
   "version": "3.6.3"
  }
 },
 "nbformat": 4,
 "nbformat_minor": 2
}
