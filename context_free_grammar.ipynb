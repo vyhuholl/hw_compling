{
 "cells": [
  {
   "cell_type": "code",
   "execution_count": 1,
   "metadata": {},
   "outputs": [],
   "source": [
    "import nltk\n",
    "import re\n",
    "from pymystem3 import Mystem"
   ]
  },
  {
   "cell_type": "code",
   "execution_count": 2,
   "metadata": {
    "collapsed": true
   },
   "outputs": [],
   "source": [
    "sentences = ['Вася читает мою книгу', 'Напиши какое-нибудь письмо', \\\n",
    "             'Этот весёлый мальчик идёт', 'Он любит читать всякие книги']"
   ]
  },
  {
   "cell_type": "code",
   "execution_count": 3,
   "metadata": {
    "collapsed": true
   },
   "outputs": [],
   "source": [
    "rules = \"\"\"\n",
    "    S -> NP VP\n",
    "    S -> VP\n",
    "    NP -> ADJ NP\n",
    "    NP -> ADJ N\n",
    "    VP -> V NP\n",
    "    VP -> V VP\n",
    "    NP -> NN\n",
    "    NP -> N\n",
    "    VP -> V\n",
    "    N -> 'книга' | 'письмо' | 'мальчик' | 'он'\n",
    "    NN -> 'вася'\n",
    "    V -> 'читать' | 'написать' | 'идти' | 'любить'\n",
    "    ADJ -> 'мой' | 'какой-нибудь' | 'этот' | 'весёлый' | 'всякий'\n",
    "\"\"\".split('\\n')"
   ]
  },
  {
   "cell_type": "code",
   "execution_count": 4,
   "metadata": {
    "collapsed": true
   },
   "outputs": [],
   "source": [
    "grammar = nltk.CFG.fromstring('\\n'.join(rules))"
   ]
  },
  {
   "cell_type": "markdown",
   "metadata": {},
   "source": [
    "# Анализ предложения с применением алгоритма CYK.\n",
    "\n",
    "|S|||||\n",
    "|------|------|------|------|------|\n",
    "||VP||||\n",
    "|------|------|------|------|------|\n",
    "|||VP|||\n",
    "|------|------|------|------|------|\n",
    "|NP|||NP||\n",
    "|------|------|------|------|------|\n",
    "|N|V|V|ADJ|N|\n",
    "|------|------|------|------|------|\n",
    "|Он|любит|читать|всякие|книги|"
   ]
  },
  {
   "cell_type": "markdown",
   "metadata": {},
   "source": [
    "0. N -> 'он', V -> 'любит', V -> 'читать', ADJ -> 'всякие', 'N' -> 'книги'\n",
    "1. NP -> N (он),  NP -> ADJ N (всякие книги)\n",
    "2. VP -> V NP (читать всякие книги)\n",
    "3. VP -> V VP (любит читать всякие книги)\n",
    "4. S -> NP VP (он любит читать всякие книги)"
   ]
  },
  {
   "cell_type": "markdown",
   "metadata": {},
   "source": [
    "# Анализ предложения с применением алгоритма Эрли\n",
    "\n",
    "\"Он любит читать всякие книги\" \n",
    "\n",
    "1. [0:0] S -> * NP VP\n",
    "2. [0:0] NP -> * N\n",
    "3. [0:0] N -> * 'он'\n",
    "4. [0:1] N -> 'он' * \n",
    "5. [0:1] NP -> 'он' * \n",
    "6. [0:1] S -> NP * VP\n",
    "7. [1:1] VP -> * V VP\n",
    "8. [1:1] V -> * 'любит'\n",
    "9. [1:2] V -> 'любит' * \n",
    "10. [1:2] VP -> V * VP\n",
    "11. [2:2] VP -> * V NP\n",
    "12. [2:2] V -> * 'читать'\n",
    "13. [2:3] V -> 'читать' * \n",
    "14. [2:3] VP -> V * NP\n",
    "15. [3:3] NP -> * ADJ N\n",
    "16. [3:3] ADJ -> * 'всякие'\n",
    "17. [3:4] ADJ -> 'всякие' * \n",
    "18. [3:4] NP -> ADJ * N\n",
    "19. [4:4] N -> * 'книги'\n",
    "20. [4:5] N -> 'книги' * \n",
    "21. [3:5] NP -> ADJ N * \n",
    "22. [2:5] VP -> V NP * \n",
    "23. [1:5] VP -> V VP * \n",
    "24. [0:5] S -> NP VP * "
   ]
  },
  {
   "cell_type": "code",
   "execution_count": 5,
   "metadata": {},
   "outputs": [],
   "source": [
    "cp = nltk.EarleyChartParser(grammar, trace=1)\n",
    "m = Mystem()"
   ]
  },
  {
   "cell_type": "code",
   "execution_count": 6,
   "metadata": {},
   "outputs": [
    {
     "data": {
      "text/plain": [
       "[S -> NP VP,\n",
       " S -> VP,\n",
       " NP -> ADJ NP,\n",
       " NP -> ADJ N,\n",
       " VP -> V NP,\n",
       " VP -> V VP,\n",
       " NP -> NN,\n",
       " NP -> N,\n",
       " VP -> V,\n",
       " N -> 'книга',\n",
       " N -> 'письмо',\n",
       " N -> 'мальчик',\n",
       " N -> 'он',\n",
       " NN -> 'вася',\n",
       " V -> 'читать',\n",
       " V -> 'написать',\n",
       " V -> 'идти',\n",
       " V -> 'любить',\n",
       " ADJ -> 'мой',\n",
       " ADJ -> 'какой-нибудь',\n",
       " ADJ -> 'этот',\n",
       " ADJ -> 'весёлый',\n",
       " ADJ -> 'всякий']"
      ]
     },
     "execution_count": 6,
     "metadata": {},
     "output_type": "execute_result"
    }
   ],
   "source": [
    "grammar.productions()"
   ]
  },
  {
   "cell_type": "code",
   "execution_count": 7,
   "metadata": {
    "collapsed": true
   },
   "outputs": [],
   "source": [
    "def print_parses(parser, sentence):\n",
    "    sentence = m.lemmatize(sentence)[::2]\n",
    "    for tree in parser.parse(sentence):\n",
    "        print(tree)"
   ]
  },
  {
   "cell_type": "code",
   "execution_count": 8,
   "metadata": {},
   "outputs": [
    {
     "name": "stdout",
     "output_type": "stream",
     "text": [
      "|.   он  . любить. читать. всякий. книга .|\n",
      "|[-------]       .       .       .       .| [0:1] 'он'\n",
      "|.       [-------]       .       .       .| [1:2] 'любить'\n",
      "|.       .       [-------]       .       .| [2:3] 'читать'\n",
      "|.       .       .       [-------]       .| [3:4] 'всякий'\n",
      "|.       .       .       .       [-------]| [4:5] 'книга'\n",
      "|>       .       .       .       .       .| [0:0] S  -> * NP VP\n",
      "|>       .       .       .       .       .| [0:0] S  -> * VP\n",
      "|>       .       .       .       .       .| [0:0] VP -> * V NP\n",
      "|>       .       .       .       .       .| [0:0] VP -> * V VP\n",
      "|>       .       .       .       .       .| [0:0] VP -> * V\n",
      "|>       .       .       .       .       .| [0:0] NP -> * ADJ NP\n",
      "|>       .       .       .       .       .| [0:0] NP -> * ADJ N\n",
      "|>       .       .       .       .       .| [0:0] NP -> * NN\n",
      "|>       .       .       .       .       .| [0:0] NP -> * N\n",
      "|>       .       .       .       .       .| [0:0] N  -> * 'он'\n",
      "|[-------]       .       .       .       .| [0:1] N  -> 'он' *\n",
      "|[-------]       .       .       .       .| [0:1] NP -> N *\n",
      "|[------->       .       .       .       .| [0:1] S  -> NP * VP\n",
      "|.       >       .       .       .       .| [1:1] VP -> * V NP\n",
      "|.       >       .       .       .       .| [1:1] VP -> * V VP\n",
      "|.       >       .       .       .       .| [1:1] VP -> * V\n",
      "|.       >       .       .       .       .| [1:1] V  -> * 'любить'\n",
      "|.       [-------]       .       .       .| [1:2] V  -> 'любить' *\n",
      "|.       [------->       .       .       .| [1:2] VP -> V * NP\n",
      "|.       [------->       .       .       .| [1:2] VP -> V * VP\n",
      "|.       [-------]       .       .       .| [1:2] VP -> V *\n",
      "|[---------------]       .       .       .| [0:2] S  -> NP VP *\n",
      "|.       .       >       .       .       .| [2:2] VP -> * V NP\n",
      "|.       .       >       .       .       .| [2:2] VP -> * V VP\n",
      "|.       .       >       .       .       .| [2:2] VP -> * V\n",
      "|.       .       >       .       .       .| [2:2] V  -> * 'читать'\n",
      "|.       .       >       .       .       .| [2:2] NP -> * ADJ NP\n",
      "|.       .       >       .       .       .| [2:2] NP -> * ADJ N\n",
      "|.       .       >       .       .       .| [2:2] NP -> * NN\n",
      "|.       .       >       .       .       .| [2:2] NP -> * N\n",
      "|.       .       [-------]       .       .| [2:3] V  -> 'читать' *\n",
      "|.       .       [------->       .       .| [2:3] VP -> V * NP\n",
      "|.       .       [------->       .       .| [2:3] VP -> V * VP\n",
      "|.       .       [-------]       .       .| [2:3] VP -> V *\n",
      "|.       [---------------]       .       .| [1:3] VP -> V VP *\n",
      "|[-----------------------]       .       .| [0:3] S  -> NP VP *\n",
      "|.       .       .       >       .       .| [3:3] VP -> * V NP\n",
      "|.       .       .       >       .       .| [3:3] VP -> * V VP\n",
      "|.       .       .       >       .       .| [3:3] VP -> * V\n",
      "|.       .       .       >       .       .| [3:3] NP -> * ADJ NP\n",
      "|.       .       .       >       .       .| [3:3] NP -> * ADJ N\n",
      "|.       .       .       >       .       .| [3:3] NP -> * NN\n",
      "|.       .       .       >       .       .| [3:3] NP -> * N\n",
      "|.       .       .       >       .       .| [3:3] ADJ -> * 'всякий'\n",
      "|.       .       .       [-------]       .| [3:4] ADJ -> 'всякий' *\n",
      "|.       .       .       [------->       .| [3:4] NP -> ADJ * NP\n",
      "|.       .       .       [------->       .| [3:4] NP -> ADJ * N\n",
      "|.       .       .       .       >       .| [4:4] N  -> * 'книга'\n",
      "|.       .       .       .       >       .| [4:4] NP -> * ADJ NP\n",
      "|.       .       .       .       >       .| [4:4] NP -> * ADJ N\n",
      "|.       .       .       .       >       .| [4:4] NP -> * NN\n",
      "|.       .       .       .       >       .| [4:4] NP -> * N\n",
      "|.       .       .       .       [-------]| [4:5] N  -> 'книга' *\n",
      "|.       .       .       [---------------]| [3:5] NP -> ADJ N *\n",
      "|.       .       .       .       [-------]| [4:5] NP -> N *\n",
      "|.       .       .       [---------------]| [3:5] NP -> ADJ NP *\n",
      "|.       .       [-----------------------]| [2:5] VP -> V NP *\n",
      "|.       [-------------------------------]| [1:5] VP -> V VP *\n",
      "|[=======================================]| [0:5] S  -> NP VP *\n",
      "|.       .       [-----------------------]| [2:5] VP -> V NP *\n",
      "(S\n",
      "  (NP (N он))\n",
      "  (VP (V любить) (VP (V читать) (NP (ADJ всякий) (NP (N книга))))))\n",
      "(S\n",
      "  (NP (N он))\n",
      "  (VP (V любить) (VP (V читать) (NP (ADJ всякий) (N книга)))))\n"
     ]
    }
   ],
   "source": [
    "print_parses(cp, sentences[3]) # всё работает!"
   ]
  },
  {
   "cell_type": "code",
   "execution_count": 9,
   "metadata": {
    "collapsed": true
   },
   "outputs": [],
   "source": [
    "def get_vocab(rules): #функция, вытаскивающая из грамматики список слов (я не нашла метода для этого в NLTK :( ))\n",
    "    ans = []\n",
    "    for rule in rules:\n",
    "        if re.search(\"'(.*?)'\", rule):\n",
    "            for i in re.findall(\"'(.*?)'\", rule):\n",
    "                ans.append(i)\n",
    "    return ans"
   ]
  },
  {
   "cell_type": "code",
   "execution_count": 10,
   "metadata": {},
   "outputs": [
    {
     "data": {
      "text/plain": [
       "['книга',\n",
       " 'письмо',\n",
       " 'мальчик',\n",
       " 'он',\n",
       " 'вася',\n",
       " 'читать',\n",
       " 'написать',\n",
       " 'идти',\n",
       " 'любить',\n",
       " 'мой',\n",
       " 'какой-нибудь',\n",
       " 'этот',\n",
       " 'весёлый',\n",
       " 'всякий']"
      ]
     },
     "execution_count": 10,
     "metadata": {},
     "output_type": "execute_result"
    }
   ],
   "source": [
    "get_vocab(rules)"
   ]
  },
  {
   "cell_type": "code",
   "execution_count": 11,
   "metadata": {
    "collapsed": true
   },
   "outputs": [],
   "source": [
    "def parse_with_unknown_words(rules, sentence): #разбираемся с неизвестными словами\n",
    "    sentence = m.lemmatize(sentence)[::2]\n",
    "    vocab = get_vocab(rules)\n",
    "    pos_dict = {'S': 'N', 'V': 'V', 'A': 'ADJ', 'APRO': 'ADJ'}\n",
    "    for word in sentence:\n",
    "        if word.lower() not in vocab:\n",
    "            #если встретилось неизвестное слово, находим его часть речи и создаём новое правило\n",
    "            pos = m.analyze(word)[0]['analysis'][0]['gr'].split('=')[0].split(',')[0]\n",
    "            if pos in pos_dict:\n",
    "                rules.append(f\"{pos_dict[pos]} -> '{word}'\")\n",
    "            else:\n",
    "                raise ValueError('A word with unknown POS has appeared!')\n",
    "    grammar = nltk.CFG.fromstring('\\n'.join(rules))\n",
    "    parser = nltk.EarleyChartParser(grammar, trace=1)\n",
    "    for tree in parser.parse(sentence):\n",
    "        print(tree)"
   ]
  },
  {
   "cell_type": "code",
   "execution_count": 12,
   "metadata": {},
   "outputs": [
    {
     "name": "stdout",
     "output_type": "stream",
     "text": [
      "|.   вася  .  читать .   мой   .  журнал .|\n",
      "|[---------]         .         .         .| [0:1] 'вася'\n",
      "|.         [---------]         .         .| [1:2] 'читать'\n",
      "|.         .         [---------]         .| [2:3] 'мой'\n",
      "|.         .         .         [---------]| [3:4] 'журнал'\n",
      "|>         .         .         .         .| [0:0] S  -> * NP VP\n",
      "|>         .         .         .         .| [0:0] S  -> * VP\n",
      "|>         .         .         .         .| [0:0] VP -> * V NP\n",
      "|>         .         .         .         .| [0:0] VP -> * V VP\n",
      "|>         .         .         .         .| [0:0] VP -> * V\n",
      "|>         .         .         .         .| [0:0] NP -> * ADJ NP\n",
      "|>         .         .         .         .| [0:0] NP -> * ADJ N\n",
      "|>         .         .         .         .| [0:0] NP -> * NN\n",
      "|>         .         .         .         .| [0:0] NP -> * N\n",
      "|>         .         .         .         .| [0:0] NN -> * 'вася'\n",
      "|[---------]         .         .         .| [0:1] NN -> 'вася' *\n",
      "|[---------]         .         .         .| [0:1] NP -> NN *\n",
      "|[--------->         .         .         .| [0:1] S  -> NP * VP\n",
      "|.         >         .         .         .| [1:1] VP -> * V NP\n",
      "|.         >         .         .         .| [1:1] VP -> * V VP\n",
      "|.         >         .         .         .| [1:1] VP -> * V\n",
      "|.         >         .         .         .| [1:1] V  -> * 'читать'\n",
      "|.         [---------]         .         .| [1:2] V  -> 'читать' *\n",
      "|.         [--------->         .         .| [1:2] VP -> V * NP\n",
      "|.         [--------->         .         .| [1:2] VP -> V * VP\n",
      "|.         [---------]         .         .| [1:2] VP -> V *\n",
      "|[-------------------]         .         .| [0:2] S  -> NP VP *\n",
      "|.         .         >         .         .| [2:2] VP -> * V NP\n",
      "|.         .         >         .         .| [2:2] VP -> * V VP\n",
      "|.         .         >         .         .| [2:2] VP -> * V\n",
      "|.         .         >         .         .| [2:2] NP -> * ADJ NP\n",
      "|.         .         >         .         .| [2:2] NP -> * ADJ N\n",
      "|.         .         >         .         .| [2:2] NP -> * NN\n",
      "|.         .         >         .         .| [2:2] NP -> * N\n",
      "|.         .         >         .         .| [2:2] ADJ -> * 'мой'\n",
      "|.         .         [---------]         .| [2:3] ADJ -> 'мой' *\n",
      "|.         .         [--------->         .| [2:3] NP -> ADJ * NP\n",
      "|.         .         [--------->         .| [2:3] NP -> ADJ * N\n",
      "|.         .         .         >         .| [3:3] N  -> * 'журнал'\n",
      "|.         .         .         >         .| [3:3] NP -> * ADJ NP\n",
      "|.         .         .         >         .| [3:3] NP -> * ADJ N\n",
      "|.         .         .         >         .| [3:3] NP -> * NN\n",
      "|.         .         .         >         .| [3:3] NP -> * N\n",
      "|.         .         .         [---------]| [3:4] N  -> 'журнал' *\n",
      "|.         .         [-------------------]| [2:4] NP -> ADJ N *\n",
      "|.         .         .         [---------]| [3:4] NP -> N *\n",
      "|.         .         [-------------------]| [2:4] NP -> ADJ NP *\n",
      "|.         [-----------------------------]| [1:4] VP -> V NP *\n",
      "|[=======================================]| [0:4] S  -> NP VP *\n",
      "|.         [-----------------------------]| [1:4] VP -> V NP *\n",
      "(S (NP (NN вася)) (VP (V читать) (NP (ADJ мой) (NP (N журнал)))))\n",
      "(S (NP (NN вася)) (VP (V читать) (NP (ADJ мой) (N журнал))))\n"
     ]
    }
   ],
   "source": [
    "parse_with_unknown_words(rules, 'Вася читает мой журнал')"
   ]
  },
  {
   "cell_type": "code",
   "execution_count": null,
   "metadata": {
    "collapsed": true
   },
   "outputs": [],
   "source": []
  }
 ],
 "metadata": {
  "kernelspec": {
   "display_name": "Python 3",
   "language": "python",
   "name": "python3"
  },
  "language_info": {
   "codemirror_mode": {
    "name": "ipython",
    "version": 3
   },
   "file_extension": ".py",
   "mimetype": "text/x-python",
   "name": "python",
   "nbconvert_exporter": "python",
   "pygments_lexer": "ipython3",
   "version": "3.6.3"
  }
 },
 "nbformat": 4,
 "nbformat_minor": 2
}
